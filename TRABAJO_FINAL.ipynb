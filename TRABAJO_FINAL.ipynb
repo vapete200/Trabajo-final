{
  "nbformat": 4,
  "nbformat_minor": 0,
  "metadata": {
    "colab": {
      "provenance": [],
      "authorship_tag": "ABX9TyO/yN/+S4V+XjXh4i4gp2DJ",
      "include_colab_link": true
    },
    "kernelspec": {
      "name": "python3",
      "display_name": "Python 3"
    },
    "language_info": {
      "name": "python"
    }
  },
  "cells": [
    {
      "cell_type": "markdown",
      "metadata": {
        "id": "view-in-github",
        "colab_type": "text"
      },
      "source": [
        "<a href=\"https://colab.research.google.com/github/vapete200/Trabajo-final/blob/main/TRABAJO_FINAL.ipynb\" target=\"_parent\"><img src=\"https://colab.research.google.com/assets/colab-badge.svg\" alt=\"Open In Colab\"/></a>"
      ]
    },
    {
      "cell_type": "code",
      "source": [
        "!curl -O \"https://raw.githubusercontent.com/vapete200/Trabajo-final/refs/heads/main/data.csv\"\n",
        "!curl -O \"https://raw.githubusercontent.com/vapete200/Trabajo-final/refs/heads/main/malla.csv\""
      ],
      "metadata": {
        "colab": {
          "base_uri": "https://localhost:8080/"
        },
        "id": "z7qD7bv-ELYv",
        "outputId": "2220b26a-2f66-4218-9ee0-a8af1854aec2"
      },
      "execution_count": null,
      "outputs": [
        {
          "output_type": "stream",
          "name": "stdout",
          "text": [
            "  % Total    % Received % Xferd  Average Speed   Time    Time     Time  Current\n",
            "                                 Dload  Upload   Total   Spent    Left  Speed\n",
            "100 20082  100 20082    0     0  97499      0 --:--:-- --:--:-- --:--:-- 97960\n",
            "  % Total    % Received % Xferd  Average Speed   Time    Time     Time  Current\n",
            "                                 Dload  Upload   Total   Spent    Left  Speed\n",
            "100  3035  100  3035    0     0  17004      0 --:--:-- --:--:-- --:--:-- 17050\n"
          ]
        }
      ]
    },
    {
      "cell_type": "code",
      "source": [
        "import os\n",
        "import openpyxl\n",
        "import math\n",
        "import random\n",
        "\n",
        "def create_carpet(semestre,asignatura):\n",
        "    os.mkdir(\"TrabajoFinal/Semestre_{}/{}\".format(semestre,asignatura[0]))\n",
        "\n",
        "\n",
        "#funcion para crear el nombre del excel\n",
        "def create_filename(codigo_curso,nombre,cantidad_estudiantes,codigo_grupo):\n",
        "    fileName=\"{}-{}-{}-{}.xlsx\".format(codigo_curso,nombre,cantidad_estudiantes,codigo_grupo)\n",
        "    return fileName\n",
        "\n",
        "def crear_archivo_excel(nombre_archivo):\n",
        "\n",
        "    workbook = openpyxl.Workbook()\n",
        "\n",
        "    workbook.save(nombre_archivo)\n",
        "\n",
        "\n",
        "def crear_archivo_agregar_fila(nombre_archivo,CA,NTE,CC,Notas):\n",
        "    workbook = openpyxl.Workbook()\n",
        "    hoja = workbook.active\n",
        "\n",
        "    hoja.append([\"Codigo Asignatura CA\", \"Numero Total de Estudiantes NTE\", \"Codigo del curso CC\", \"Nota Asignatura (NA)\"])\n",
        "    hoja.append([CA,NTE,CC,Notas[0]])\n",
        "\n",
        "    hoja_notas = workbook.create_sheet(title=\"Notas lista\")\n",
        "    hoja_notas.append([\"Notas\"])\n",
        "\n",
        "    for nota in Notas[1]:\n",
        "        hoja_notas.append([nota])\n",
        "\n",
        "    workbook.save(nombre_archivo)\n",
        "\n",
        "def generar_notas(estudiantes):\n",
        "    aprobados = int(estudiantes*0.7)\n",
        "    reprobados = int(estudiantes - aprobados)\n",
        "\n",
        "    notas = []\n",
        "    for _ in range (aprobados):\n",
        "        notas.append(round(random.uniform(3.0,5.0),2))\n",
        "\n",
        "    for _ in range(reprobados):\n",
        "        notas.append(round(random.uniform(0.0,2.9),2))\n",
        "\n",
        "\n",
        "    promedio = sum(notas) / len(notas)\n",
        "    return [promedio,notas]\n",
        "\n",
        "\n",
        "def estudiantes_x_salon(asignatura, estudiantes_en_semestre, cupos):\n",
        "    salones_totales = math.ceil(estudiantes_en_semestre / cupos ) #10\n",
        "\n",
        "\n",
        "    semestre = asignatura[1]\n",
        "    create_carpet(semestre,asignatura)\n",
        "\n",
        "\n",
        "    for salon in range(1,salones_totales+1):\n",
        "        estudiantesEnSalon = estudiantes_en_semestre / salones_totales\n",
        "\n",
        "        if salon == salones_totales and estudiantesEnSalon % (salones_totales+1) != 0:\n",
        "            estudiantesEnSalon = estudiantesEnSalon - estudiantesEnSalon % (salones_totales+1)\n",
        "\n",
        "\n",
        "        generar_notas(estudiantesEnSalon)\n",
        "\n",
        "        codigo = asignatura[0][0:3] + asignatura[2][0:3] +  \"-\" + semestre + \"-\" + asignatura[3] +\"-\"+ str(salon)\n",
        "\n",
        "        rutaCarpeta = \"TrabajoFinal/Semestre_{}/{}\".format(semestre,asignatura[0])\n",
        "        nombreArchivoExcel = create_filename(codigo,str(asignatura[0]).capitalize().replace(\" \",\"\"),math.ceil(estudiantesEnSalon), salon)\n",
        "\n",
        "        crear_archivo_agregar_fila(rutaCarpeta+\"/\"+nombreArchivoExcel,codigo,estudiantesEnSalon,salon,generar_notas(estudiantesEnSalon))\n",
        "\n",
        "import csv\n",
        "import os\n",
        "import math\n",
        "import random\n",
        "import pandas as pd\n",
        "import shutil\n",
        "\n",
        "\n",
        "#Cargar estudiantes\n",
        "with open(\"./data.csv\",newline=\"\") as csvFileDirectory:\n",
        "    csvFile = csv.reader(csvFileDirectory, delimiter=\"_\", quotechar=\"_\",lineterminator=\"\\n\")\n",
        "\n",
        "# Crear las carpetas por semestre\n",
        "\n",
        "if os.path.exists(\"TrabajoFinal\"):\n",
        "    shutil.rmtree(\"TrabajoFinal\")\n",
        "\n",
        "os.mkdir(\"TrabajoFinal\")\n",
        "for i in range(0,10):\n",
        "    os.mkdir(\"TrabajoFinal/Semestre_%s\" % str(i+1))\n",
        "\n",
        "#Cargar malla curricular\n",
        "asignaturas = []\n",
        "with open(\"./malla.csv\",newline=\"\") as csvFileDirectory:\n",
        "    csvFile = csv.reader(csvFileDirectory, delimiter=\",\", quotechar='\"', lineterminator=\"\\n\")\n",
        "\n",
        "    for materia in csvFile:\n",
        "        asignaturas.append(materia)\n",
        "\n",
        "\n",
        "#Delimitamos Salon Asignatura x Nivel De Semestre\n",
        "cupoPorSemestre = [\n",
        "    {\"Semestre\": 1, \"Cupos\": 40},\n",
        "    {\"Semestre\": 2, \"Cupos\": 40},\n",
        "    {\"Semestre\": 3, \"Cupos\": 40},\n",
        "    {\"Semestre\": 4, \"Cupos\": 35},\n",
        "    {\"Semestre\": 5, \"Cupos\": 35},\n",
        "    {\"Semestre\": 6, \"Cupos\": 35},\n",
        "    {\"Semestre\": 7, \"Cupos\": 25},\n",
        "    {\"Semestre\": 8, \"Cupos\": 25},\n",
        "    {\"Semestre\": 9, \"Cupos\": 25},\n",
        "    {\"Semestre\": 10, \"Cupos\": 10}\n",
        "]\n",
        "\n",
        "#Crear Carpetas x Asignatura\n",
        "estudiantes = 1000\n",
        "codigos = []\n",
        "nte = []\n",
        "cc = []\n",
        "fileNames = []\n",
        "\n",
        "\n",
        "for materia in asignaturas:\n",
        "    semestre = int(materia[1])\n",
        "    estudiantes_x_salon(materia,estudiantes * (0.7 ** (semestre-1)), cupoPorSemestre[semestre-1][\"Cupos\"])\n",
        "\n",
        "\n",
        "print(\"El proceso culmino exitosamente!\")"
      ],
      "metadata": {
        "colab": {
          "base_uri": "https://localhost:8080/"
        },
        "id": "XCT7gKOmF5gq",
        "outputId": "7f198861-d64e-4c23-858f-37a31177bded"
      },
      "execution_count": null,
      "outputs": [
        {
          "output_type": "stream",
          "name": "stdout",
          "text": [
            "El proceso culmino exitosamente!\n"
          ]
        }
      ]
    }
  ]
}